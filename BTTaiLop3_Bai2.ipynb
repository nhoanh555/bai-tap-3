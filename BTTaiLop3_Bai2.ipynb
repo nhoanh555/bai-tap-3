{
  "nbformat": 4,
  "nbformat_minor": 0,
  "metadata": {
    "colab": {
      "provenance": [],
      "authorship_tag": "ABX9TyMacDM9QpBVyTttAoVHH8MM",
      "include_colab_link": true
    },
    "kernelspec": {
      "name": "python3",
      "display_name": "Python 3"
    },
    "language_info": {
      "name": "python"
    }
  },
  "cells": [
    {
      "cell_type": "markdown",
      "metadata": {
        "id": "view-in-github",
        "colab_type": "text"
      },
      "source": [
        "<a href=\"https://colab.research.google.com/github/nhoanh555/bai-tap-3/blob/main/BTTaiLop3_Bai2.ipynb\" target=\"_parent\"><img src=\"https://colab.research.google.com/assets/colab-badge.svg\" alt=\"Open In Colab\"/></a>"
      ]
    },
    {
      "cell_type": "code",
      "execution_count": null,
      "metadata": {
        "colab": {
          "base_uri": "https://localhost:8080/"
        },
        "id": "Llxldh6jOYy0",
        "outputId": "eb5037be-d4bd-4314-ac9e-e48a0b40583f"
      },
      "outputs": [
        {
          "name": "stdout",
          "output_type": "stream",
          "text": [
            "nhap n = 10\n"
          ]
        }
      ],
      "source": [
        "from math import*\n",
        "n = int(input('nhap n = '))\n",
        "if n < 0:\n",
        "  print('n > 0 nhaa')"
      ]
    },
    {
      "cell_type": "code",
      "source": [
        "#1\n",
        "a = 1\n",
        "for i in range (1,n+1):\n",
        "  a=a*i\n",
        "print(a)  "
      ],
      "metadata": {
        "colab": {
          "base_uri": "https://localhost:8080/"
        },
        "id": "I-7tNUsyRcje",
        "outputId": "08c1cec1-da8e-4c9f-b654-bb41adb3968f"
      },
      "execution_count": null,
      "outputs": [
        {
          "output_type": "stream",
          "name": "stdout",
          "text": [
            "3628800\n"
          ]
        }
      ]
    },
    {
      "cell_type": "code",
      "source": [
        "#2 \n",
        "b = 1\n",
        "for i in range (1,n+1):\n",
        "  b=b*(1/i)\n",
        "print(b)  "
      ],
      "metadata": {
        "id": "QxjQu5UmSWt0"
      },
      "execution_count": null,
      "outputs": []
    },
    {
      "cell_type": "code",
      "source": [
        "#3\n",
        "c = 1\n",
        "for i in range(1,n+1):\n",
        "  if i%2 != 0:\n",
        "    c = c * i\n",
        "print(c)    "
      ],
      "metadata": {
        "colab": {
          "base_uri": "https://localhost:8080/"
        },
        "id": "mWei6TfzSyWu",
        "outputId": "8af52a67-3ed3-4f63-a6c2-704c6ff6bdaa"
      },
      "execution_count": null,
      "outputs": [
        {
          "output_type": "stream",
          "name": "stdout",
          "text": [
            "105\n"
          ]
        }
      ]
    },
    {
      "cell_type": "code",
      "source": [
        "#4\n",
        "d = 1\n",
        "for i in range(1,n+1):\n",
        "  if i%2 == 0:\n",
        "    d = d * i\n",
        "print(d)   "
      ],
      "metadata": {
        "colab": {
          "base_uri": "https://localhost:8080/"
        },
        "id": "Lm5MKfncTFdg",
        "outputId": "07bc8972-448a-43b0-9c78-7277b944ac1e"
      },
      "execution_count": null,
      "outputs": [
        {
          "output_type": "stream",
          "name": "stdout",
          "text": [
            "384\n"
          ]
        }
      ]
    }
  ]
}