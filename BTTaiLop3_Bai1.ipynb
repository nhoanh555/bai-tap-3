{
  "nbformat": 4,
  "nbformat_minor": 0,
  "metadata": {
    "colab": {
      "provenance": [],
      "authorship_tag": "ABX9TyM0U+l9pPCSWzqdNDOXWzQ6",
      "include_colab_link": true
    },
    "kernelspec": {
      "name": "python3",
      "display_name": "Python 3"
    },
    "language_info": {
      "name": "python"
    }
  },
  "cells": [
    {
      "cell_type": "markdown",
      "metadata": {
        "id": "view-in-github",
        "colab_type": "text"
      },
      "source": [
        "<a href=\"https://colab.research.google.com/github/nhoanh555/bai-tap-3/blob/main/BTTaiLop3_Bai1.ipynb\" target=\"_parent\"><img src=\"https://colab.research.google.com/assets/colab-badge.svg\" alt=\"Open In Colab\"/></a>"
      ]
    },
    {
      "cell_type": "code",
      "execution_count": null,
      "metadata": {
        "id": "azHJq3tNGgPY",
        "colab": {
          "base_uri": "https://localhost:8080/"
        },
        "outputId": "0cc3c75a-73d7-4357-857e-1547093d38c8"
      },
      "outputs": [
        {
          "output_type": "stream",
          "name": "stdout",
          "text": [
            "Nhập n = -1\n",
            "n > 0 nhaaa\n"
          ]
        }
      ],
      "source": [
        "from math import*\n",
        "n = int(input('Nhập n = '))\n",
        "if n < 0:\n",
        "  print ('n > 0 nhaaa')"
      ]
    },
    {
      "cell_type": "code",
      "source": [
        "#1\n",
        "a = 0\n",
        "for i in range (1 , n+1):\n",
        "  a = a + i\n",
        "print(a)"
      ],
      "metadata": {
        "colab": {
          "base_uri": "https://localhost:8080/"
        },
        "id": "ZFahgXX1Hegt",
        "outputId": "d7b4a2fe-3a2e-4511-e156-831265386665"
      },
      "execution_count": null,
      "outputs": [
        {
          "output_type": "stream",
          "name": "stdout",
          "text": [
            "0\n"
          ]
        }
      ]
    },
    {
      "cell_type": "code",
      "source": [
        "#2\n",
        "b = 0\n",
        "for i in range (1 , n+1):\n",
        "  if (i%2) != 0:\n",
        "    b = b + i\n",
        "print(b)    "
      ],
      "metadata": {
        "colab": {
          "base_uri": "https://localhost:8080/"
        },
        "id": "Q7kO0MDVK2CX",
        "outputId": "44ba9d25-4662-4542-93c4-3800d0d8e8f4"
      },
      "execution_count": null,
      "outputs": [
        {
          "output_type": "stream",
          "name": "stdout",
          "text": [
            "1\n"
          ]
        }
      ]
    },
    {
      "cell_type": "code",
      "source": [
        "#3\n",
        "c = 0\n",
        "for i in range (1 , n+1):\n",
        "  if (i%2) == 0:\n",
        "    c = c + i\n",
        "print(c)    "
      ],
      "metadata": {
        "colab": {
          "base_uri": "https://localhost:8080/"
        },
        "id": "zRtfwkH-MmFY",
        "outputId": "68e62575-7cf8-4bc4-a7f7-6044d278b36d"
      },
      "execution_count": null,
      "outputs": [
        {
          "output_type": "stream",
          "name": "stdout",
          "text": [
            "2\n"
          ]
        }
      ]
    },
    {
      "cell_type": "code",
      "source": [
        "#4\n",
        "d = 0\n",
        "for i in range (1 , n+1):\n",
        "  d = d + log(i) \n",
        "print(d)  "
      ],
      "metadata": {
        "colab": {
          "base_uri": "https://localhost:8080/"
        },
        "id": "WuREfMhDMtDq",
        "outputId": "00bc4652-838f-4001-8519-cbe0fa8daa6d"
      },
      "execution_count": null,
      "outputs": [
        {
          "output_type": "stream",
          "name": "stdout",
          "text": [
            "0.6931471805599453\n"
          ]
        }
      ]
    },
    {
      "cell_type": "code",
      "source": [
        "#5 \n",
        "e = 0\n",
        "for i in range (1 , n+1):\n",
        "  e = e + (1/i)\n",
        "print(e)  "
      ],
      "metadata": {
        "colab": {
          "base_uri": "https://localhost:8080/"
        },
        "id": "NjgtPO4yNWIa",
        "outputId": "367002fe-d2ec-4e2d-e1f2-afb109f03f5f"
      },
      "execution_count": null,
      "outputs": [
        {
          "output_type": "stream",
          "name": "stdout",
          "text": [
            "1.5\n"
          ]
        }
      ]
    }
  ]
}